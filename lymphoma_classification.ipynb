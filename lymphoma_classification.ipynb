{
  "nbformat": 4,
  "nbformat_minor": 0,
  "metadata": {
    "colab": {
      "provenance": []
    },
    "kernelspec": {
      "name": "python3",
      "display_name": "Python 3"
    },
    "language_info": {
      "name": "python"
    }
  },
  "cells": [
    {
      "cell_type": "code",
      "source": [
        "import os"
      ],
      "metadata": {
        "id": "j9cRYTUqN8vF"
      },
      "execution_count": 1,
      "outputs": []
    },
    {
      "cell_type": "code",
      "source": [
        "# check if in colab\n",
        "\n",
        "using_colab = 'COLAB_RELEASE_TAG' in os.environ\n",
        "\n",
        "if using_colab:\n",
        "    from google.colab import drive\n",
        "    drive.mount('/content/drive')\n",
        "\n",
        "    os.chdir('/content/drive/MyDrive/HDA/HDA-lymphoma-classification')\n",
        "\n",
        "    # pull changes\n",
        "    ! git pull\n",
        "\n",
        "    DATASET_DIR = '/content/drive/MyDrive/HDA/lymphoma'\n",
        "    \n",
        "\n",
        "else:\n",
        "    DATASET_DIR = 'C:\\\\Users\\\\loren\\\\Datasets\\\\lymphoma'\n",
        "\n"
      ],
      "metadata": {
        "id": "A7Wln7ErsvLY",
        "colab": {
          "base_uri": "https://localhost:8080/"
        },
        "outputId": "2ed9cf72-be85-438d-c7e0-01dae5e10371"
      },
      "execution_count": 3,
      "outputs": [
        {
          "output_type": "stream",
          "name": "stdout",
          "text": [
            "Drive already mounted at /content/drive; to attempt to forcibly remount, call drive.mount(\"/content/drive\", force_remount=True).\n",
            "Already up to date.\n"
          ]
        }
      ]
    },
    {
      "cell_type": "code",
      "source": [],
      "metadata": {
        "id": "sgwjs6cgN8uL"
      },
      "execution_count": null,
      "outputs": []
    }
  ]
}